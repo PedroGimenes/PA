{
  "nbformat": 4,
  "nbformat_minor": 0,
  "metadata": {
    "colab": {
      "provenance": [],
      "authorship_tag": "ABX9TyOcnIrwVcrOXck6WevgzFWV",
      "include_colab_link": true
    },
    "kernelspec": {
      "name": "python3",
      "display_name": "Python 3"
    },
    "language_info": {
      "name": "python"
    }
  },
  "cells": [
    {
      "cell_type": "markdown",
      "metadata": {
        "id": "view-in-github",
        "colab_type": "text"
      },
      "source": [
        "<a href=\"https://colab.research.google.com/github/PedroGimenes/PA/blob/main/Atividade_Pr%C3%A1tica_de_Fun%C3%A7%C3%B5e.ipynb\" target=\"_parent\"><img src=\"https://colab.research.google.com/assets/colab-badge.svg\" alt=\"Open In Colab\"/></a>"
      ]
    },
    {
      "cell_type": "markdown",
      "source": [
        "\n",
        "1) com parâmetro e com retorno:\n",
        "\n",
        "Você foi encarregado de criar um programa para calcular o valor total de uma compra em um supermercado. Crie uma função chamada calcular_total_compra que receba como parâmetro uma lista de preços dos itens comprados e retorne o valor total a ser pago.\n",
        "\n",
        "No programa principal:\n",
        "\n",
        "Peça ao usuário para informar quantos itens ele comprou.\n",
        "Para cada item, solicite o preço e armazene em uma lista.\n",
        "Chame a função e exiba o valor total da compra.\n",
        "\n",
        "Na saída do programa deverá ser assim:\n",
        "\n",
        "Quantos itens você comprou? 3\n",
        "Digite o preço do item 1: 10.50\n",
        "Digite o preço do item 2: 5.20\n",
        "Digite o preço do item 3: 8.30\n",
        "O valor total da compra é: R$ 24.00"
      ],
      "metadata": {
        "id": "gwtLOyKs0boy"
      }
    },
    {
      "cell_type": "code",
      "source": [
        "lista_preços= []\n",
        "def calcular_total_compra():\n",
        "  quant= int(input(\"Quantos itens você comprou? \"))\n",
        "  for i in range(quant):\n",
        "    preços= float(input(\"Digite o preço do item: R$ \"))\n",
        "    lista_preços.append(preços)\n",
        "  total= sum(lista_preços)\n",
        "  print(f\"O valor total da compra é: R$ {total}\")"
      ],
      "metadata": {
        "id": "i5CvCXhQ0eRt"
      },
      "execution_count": 58,
      "outputs": []
    },
    {
      "cell_type": "code",
      "source": [
        "calcular_total_compra()"
      ],
      "metadata": {
        "colab": {
          "base_uri": "https://localhost:8080/"
        },
        "id": "8k3I0nlQ1GPH",
        "outputId": "538a136e-5e09-4cda-fa6f-1e91c8621a0a"
      },
      "execution_count": 59,
      "outputs": [
        {
          "output_type": "stream",
          "name": "stdout",
          "text": [
            "Quantos itens você comprou? 3\n",
            "Digite o preço do item: R$ 20\n",
            "Digite o preço do item: R$ 30\n",
            "Digite o preço do item: R$ 90\n",
            "O valor total da compra é: R$ 140.0\n"
          ]
        }
      ]
    },
    {
      "cell_type": "markdown",
      "source": [
        "2) Função Sem parâmetro e com retorno\n",
        "\n",
        "Você está organizando uma eleição fictícia com três candidatos. Crie uma função chamada realizar_votacao que:\n",
        "\n",
        "Solicite ao usuário que vote em um dos três candidatos, identificados por números (1, 2 ou 3).\n",
        "Permita que a votação continue até que o usuário digite 0 para encerrar.\n",
        "Ao final, exiba o número total de votos para cada candidato.\n",
        "A função não deve receber parâmetros nem retornar valores; apenas realizar a votação e exibir os resultados no final.\n",
        "\n",
        "Vote no seu candidato:\n",
        "1 - Candidato A\n",
        "2 - Candidato B\n",
        "3 - Candidato C\n",
        "Digite 0 para encerrar.\n",
        "Seu voto: 1\n",
        "Seu voto: 3\n",
        "Seu voto: 2\n",
        "Seu voto: 3\n",
        "Seu voto: 0\n",
        "\n",
        "Resultado da votação:\n",
        "Candidato A: 1 voto(s)\n",
        "Candidato B: 1 voto(s)\n",
        "Candidato C: 2 voto(s)"
      ],
      "metadata": {
        "id": "A-sRT_x54-qq"
      }
    },
    {
      "cell_type": "code",
      "source": [
        "def realizar_votacao():\n",
        "  candidato_a= 0\n",
        "  candidato_b= 0\n",
        "  candidato_c= 0\n",
        "  voto= 1\n",
        "  print(\" Candidato A = 1, Candidato B = 2, Candidato C = 3 e se quiser encerrar digite 0\")\n",
        "  while voto != 0:\n",
        "    voto= int(input(\"Vote no seu candidato:\" ))\n",
        "    if voto == 1:\n",
        "      candidato_a += 1\n",
        "    elif voto == 2:\n",
        "      candidato_b += 1\n",
        "    elif voto == 3:\n",
        "      candidato_c += 1\n",
        "    elif voto == 0:\n",
        "      break\n",
        "    else:\n",
        "      print(\"Voto inválido\")\n",
        "  print(\"o resultado final é: \", \"\\nCandidato A = \",  candidato_a, \"votos\", \"\\nCandidato B = \", candidato_b, \"votos\", \"\\nCandidato C = \", candidato_c, \"votos\", )"
      ],
      "metadata": {
        "id": "tBNYwvRk4_z4"
      },
      "execution_count": 53,
      "outputs": []
    },
    {
      "cell_type": "code",
      "source": [
        "realizar_votacao()"
      ],
      "metadata": {
        "colab": {
          "base_uri": "https://localhost:8080/"
        },
        "id": "vTl3AIGD6A3H",
        "outputId": "860ff91c-128d-47cf-88a5-29b54779e2fc"
      },
      "execution_count": 54,
      "outputs": [
        {
          "output_type": "stream",
          "name": "stdout",
          "text": [
            " Candidato A = 1, Candidato B = 2, Candidato C = 3 e se quiser encerrar digite 0\n",
            "Vote no seu candidato:2\n",
            "Vote no seu candidato:3\n",
            "Vote no seu candidato:1\n",
            "Vote no seu candidato:0\n",
            "o resultado final é:  \n",
            "Candidato A =  1 votos \n",
            "Candidato B =  1 votos \n",
            "Candidato C =  1 votos\n"
          ]
        }
      ]
    }
  ]
}