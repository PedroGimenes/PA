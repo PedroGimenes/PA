{
 "cells": [
  {
   "cell_type": "markdown",
   "id": "64eb671f",
   "metadata": {},
   "source": [
    "1) Crie um jogo onde o usuário deve adivinhar um número secreto entre 1 e 100. O programa deve fornecer dicas sobre se o palpite do usuário está muito alto ou muito baixo. \n",
    "O jogo deve continuar até que o usuário adivinhe corretamente ou escolha sair."
   ]
  },
  {
   "cell_type": "code",
   "execution_count": 57,
   "id": "e12f47ae",
   "metadata": {},
   "outputs": [
    {
     "name": "stdout",
     "output_type": "stream",
     "text": [
      "qual número vc acha que é ? 25\n",
      "bom palpite, mas o número secreto é maior\n",
      "qual número vc acha que é ? 50\n",
      "bom palpite, mas o número secreto é maior\n",
      "qual número vc acha que é ? 50\n",
      "bom palpite, mas o número secreto é maior\n",
      "qual número vc acha que é ? 20\n",
      "bom palpite, mas o número secreto é maior\n",
      "qual número vc acha que é ? 50\n",
      "bom palpite, mas o número secreto é maior\n",
      "qual número vc acha que é ? 105\n",
      "bom palpite, mas o número secreto é menor\n",
      "qual número vc acha que é ? 1214\n",
      "bom palpite, mas o número secreto é menor\n",
      "qual número vc acha que é ? 100\n",
      "acertou 100 é o número secreto\n"
     ]
    }
   ],
   "source": [
    "adiv=int(input(\"qual número vc acha que é ? \"))\n",
    "numsegr=100\n",
    "\n",
    "for i in range(1, 100+1):\n",
    "     \n",
    "  if adiv < numsegr:\n",
    "   print(\"bom palpite, mas o número secreto é maior\")\n",
    "   adiv=int(input(\"qual número vc acha que é ? \"))\n",
    "    \n",
    "  if adiv > numsegr:\n",
    "   print(\"bom palpite, mas o número secreto é menor\")  \n",
    "   adiv=int(input(\"qual número vc acha que é ? \"))\n",
    "    \n",
    "else:\n",
    " adiv==numsegr\n",
    "print(\"acertou\", numsegr, \"é o número secreto\")"
   ]
  },
  {
   "cell_type": "code",
   "execution_count": 53,
   "id": "c614e1c2",
   "metadata": {},
   "outputs": [
    {
     "name": "stdout",
     "output_type": "stream",
     "text": [
      "qual número vc acha que é ? 10\n",
      "bom palpite, mas o número secreto é maior\n",
      "qual número vc acha que é ? 50\n",
      "bom palpite, mas o número secreto é maior\n",
      "qual número vc acha que é ? 10\n",
      "bom palpite, mas o número secreto é maior\n",
      "qual número vc acha que é ? 90\n",
      "bom palpite, mas o número secreto é maior\n",
      "qual número vc acha que é ? 110\n",
      "bom palpite, mas o número secreto é menor\n",
      "qual número vc acha que é ? 100\n",
      "acertou 100 é o número secreto\n"
     ]
    }
   ],
   "source": [
    "adiv=int(input(\"qual número vc acha que é ? \"))\n",
    "numsegr=100\n",
    "\n",
    "while adiv!=numsegr:\n",
    " cont(input(\"deseja continuar?\"))\n",
    " \n",
    " if cont == sim:\n",
    "    \n",
    "    \n",
    " if adiv < numsegr:\n",
    "  print(\"bom palpite, mas o número secreto é maior\")\n",
    "  adiv=int(input(\"qual número vc acha que é ? \"))\n",
    "    \n",
    " if adiv > numsegr:\n",
    "  print(\"bom palpite, mas o número secreto é menor\")  \n",
    "  adiv=int(input(\"qual número vc acha que é ? \"))\n",
    "    \n",
    "else:\n",
    " adiv==numsegr\n",
    "print(\"acertou\", numsegr, \"é o número secreto\")\n",
    "  \n",
    "    \n",
    "\n"
   ]
  },
  {
   "cell_type": "markdown",
   "id": "909caaea",
   "metadata": {},
   "source": [
    "2)Crie um programa que simula um caixa de supermercado. O usuário deve inserir o preço de cada item comprado e, após inserir todos os itens, o programa deve calcular o total da compra e aplicar um desconto de 5%, se o valor for pago a vista, caso contrário cobrança normal.\n",
    "Execute o programa até o usuário disser que deseja continuar."
   ]
  },
  {
   "cell_type": "code",
   "execution_count": 193,
   "id": "e0a0a29e",
   "metadata": {},
   "outputs": [
    {
     "name": "stdout",
     "output_type": "stream",
     "text": [
      "quantos itens foram comprados? 2\n",
      "digite o preço de cada compra: 100\n",
      "digite o preço de cada compra: 100\n",
      "tipos de pagamento\n",
      "1- a vista\n",
      "2- outra forma\n",
      "qual vai ser o tipo de pagamento? 2\n",
      "se pagar a vista pagara 190.0 com 5% de desconto\n",
      "se pagar de outra forma pagara 200 sem nenhum desconto\n"
     ]
    }
   ],
   "source": [
    "quant=int(input(\"quantos itens foram comprados? \"))\n",
    "com=0\n",
    "\n",
    "for i in range(1, quant+1):\n",
    " cm=int(input(\"digite o preço de cada compra: \"))\n",
    " com=com+cm\n",
    "avista=com*0.05\n",
    "\n",
    "print(\"tipos de pagamento\")\n",
    "print(\"1- a vista\")\n",
    "print(\"2- outra forma\")\n",
    "pagamento=int(input(\"qual vai ser o tipo de pagamento? \"))\n",
    "\n",
    "if pagamento:=1:\n",
    " print(\"se pagar a vista pagara\", com-avista, \"com 5% de desconto\")\n",
    "\n",
    "if pagamento:=2:\n",
    " print(\"se pagar de outra forma pagara\", com, \"sem nenhum desconto\")\n",
    "\n",
    "  \n",
    "           \n",
    "\n",
    "\n",
    "\n"
   ]
  },
  {
   "cell_type": "code",
   "execution_count": 186,
   "id": "d7cd82d7",
   "metadata": {},
   "outputs": [
    {
     "ename": "SyntaxError",
     "evalue": "invalid decimal literal (3243894261.py, line 1)",
     "output_type": "error",
     "traceback": [
      "\u001b[1;36m  Cell \u001b[1;32mIn [186], line 1\u001b[1;36m\u001b[0m\n\u001b[1;33m    131dq\u001b[0m\n\u001b[1;37m      ^\u001b[0m\n\u001b[1;31mSyntaxError\u001b[0m\u001b[1;31m:\u001b[0m invalid decimal literal\n"
     ]
    }
   ],
   "source": []
  },
  {
   "cell_type": "code",
   "execution_count": null,
   "id": "ff18dd98",
   "metadata": {},
   "outputs": [],
   "source": []
  }
 ],
 "metadata": {
  "kernelspec": {
   "display_name": "Python 3 (ipykernel)",
   "language": "python",
   "name": "python3"
  },
  "language_info": {
   "codemirror_mode": {
    "name": "ipython",
    "version": 3
   },
   "file_extension": ".py",
   "mimetype": "text/x-python",
   "name": "python",
   "nbconvert_exporter": "python",
   "pygments_lexer": "ipython3",
   "version": "3.10.7"
  }
 },
 "nbformat": 4,
 "nbformat_minor": 5
}
